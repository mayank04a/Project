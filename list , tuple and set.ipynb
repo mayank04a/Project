{
 "cells": [
  {
   "cell_type": "code",
   "execution_count": 11,
   "id": "a989ac05-1123-46ce-9b9f-846037f23cee",
   "metadata": {},
   "outputs": [],
   "source": [
    "l=[\"mayank\",232,325,54,356.77]"
   ]
  },
  {
   "cell_type": "code",
   "execution_count": 12,
   "id": "5d285a4b-d750-4c1c-89ce-01d1210898b1",
   "metadata": {},
   "outputs": [
    {
     "data": {
      "text/plain": [
       "list"
      ]
     },
     "execution_count": 12,
     "metadata": {},
     "output_type": "execute_result"
    }
   ],
   "source": [
    "type(l)"
   ]
  },
  {
   "cell_type": "code",
   "execution_count": 17,
   "id": "89e32359-2e34-4cbe-bb3c-862d38fe86d7",
   "metadata": {},
   "outputs": [
    {
     "data": {
      "text/plain": [
       "356.77"
      ]
     },
     "execution_count": 17,
     "metadata": {},
     "output_type": "execute_result"
    }
   ],
   "source": [
    "l[4]"
   ]
  },
  {
   "cell_type": "code",
   "execution_count": 18,
   "id": "fd7ef3c0-3f32-449c-a615-b0fd533f3579",
   "metadata": {},
   "outputs": [
    {
     "data": {
      "text/plain": [
       "['mayank', 232, 325, 54, 356.77]"
      ]
     },
     "execution_count": 18,
     "metadata": {},
     "output_type": "execute_result"
    }
   ],
   "source": [
    "l"
   ]
  },
  {
   "cell_type": "code",
   "execution_count": 19,
   "id": "45869844-4275-4bff-8a0d-917e1b29830b",
   "metadata": {},
   "outputs": [
    {
     "data": {
      "text/plain": [
       "[356.77, 54, 325, 232, 'mayank']"
      ]
     },
     "execution_count": 19,
     "metadata": {},
     "output_type": "execute_result"
    }
   ],
   "source": [
    "l[::-1]"
   ]
  },
  {
   "cell_type": "code",
   "execution_count": 20,
   "id": "f0575b85-5bbc-4764-a4aa-7d1805ff81e8",
   "metadata": {},
   "outputs": [
    {
     "data": {
      "text/plain": [
       "['mayank', 325, 356.77]"
      ]
     },
     "execution_count": 20,
     "metadata": {},
     "output_type": "execute_result"
    }
   ],
   "source": [
    "l[0:7:2]"
   ]
  },
  {
   "cell_type": "code",
   "execution_count": 21,
   "id": "23842e8c-2c63-4b38-9296-c4478c481348",
   "metadata": {},
   "outputs": [
    {
     "data": {
      "text/plain": [
       "[356.77, 325, 'mayank']"
      ]
     },
     "execution_count": 21,
     "metadata": {},
     "output_type": "execute_result"
    }
   ],
   "source": [
    "l[-1:-6:-2]"
   ]
  },
  {
   "cell_type": "code",
   "execution_count": 23,
   "id": "5b69a200-5532-41b4-983b-7015ea7bc06e",
   "metadata": {},
   "outputs": [
    {
     "data": {
      "text/plain": [
       "['mayank', 325, 356.77]"
      ]
     },
     "execution_count": 23,
     "metadata": {},
     "output_type": "execute_result"
    }
   ],
   "source": [
    "l[::2]\n",
    "##even number find"
   ]
  },
  {
   "cell_type": "code",
   "execution_count": 24,
   "id": "3047ddca-f00f-4c23-a510-746082e211e4",
   "metadata": {},
   "outputs": [
    {
     "data": {
      "text/plain": [
       "'mayank joshi'"
      ]
     },
     "execution_count": 24,
     "metadata": {},
     "output_type": "execute_result"
    }
   ],
   "source": [
    "l[0]+\" joshi\""
   ]
  },
  {
   "cell_type": "code",
   "execution_count": 28,
   "id": "e732520f-8ea3-4c70-a48c-4ee4af413606",
   "metadata": {},
   "outputs": [
    {
     "data": {
      "text/plain": [
       "'mayank'"
      ]
     },
     "execution_count": 28,
     "metadata": {},
     "output_type": "execute_result"
    }
   ],
   "source": [
    "l[0]"
   ]
  },
  {
   "cell_type": "code",
   "execution_count": 29,
   "id": "81e7427b-9c82-4f95-ae8a-ebe44be94edc",
   "metadata": {},
   "outputs": [
    {
     "data": {
      "text/plain": [
       "str"
      ]
     },
     "execution_count": 29,
     "metadata": {},
     "output_type": "execute_result"
    }
   ],
   "source": [
    "type(l[0])"
   ]
  },
  {
   "cell_type": "code",
   "execution_count": 30,
   "id": "994d0172-69c3-4237-a9bd-72f04c4f8188",
   "metadata": {},
   "outputs": [
    {
     "data": {
      "text/plain": [
       "'maya'"
      ]
     },
     "execution_count": 30,
     "metadata": {},
     "output_type": "execute_result"
    }
   ],
   "source": [
    "l[0][0:4]"
   ]
  },
  {
   "cell_type": "code",
   "execution_count": 32,
   "id": "6a928773-b3ce-43b3-827b-f339556ae705",
   "metadata": {},
   "outputs": [
    {
     "data": {
      "text/plain": [
       "['mayank', 232, 325, 54, 356.77]"
      ]
     },
     "execution_count": 32,
     "metadata": {},
     "output_type": "execute_result"
    }
   ],
   "source": [
    "l"
   ]
  },
  {
   "cell_type": "code",
   "execution_count": 38,
   "id": "5b8ab566-22a0-497b-ab27-6d8a42cb030b",
   "metadata": {},
   "outputs": [],
   "source": [
    "m=['mayank', 232, 325, 54, 356.77]"
   ]
  },
  {
   "cell_type": "code",
   "execution_count": 40,
   "id": "ed1fccfa-9656-4ef2-b61f-4b747b2638c1",
   "metadata": {},
   "outputs": [],
   "source": [
    "ll=[3,4,5]"
   ]
  },
  {
   "cell_type": "code",
   "execution_count": 41,
   "id": "c22733f6-2b20-441e-b6da-e942b45e168a",
   "metadata": {},
   "outputs": [
    {
     "data": {
      "text/plain": [
       "['mayank', 232, 325, 54, 356.77, 3, 4, 5]"
      ]
     },
     "execution_count": 41,
     "metadata": {},
     "output_type": "execute_result"
    }
   ],
   "source": [
    "l+ll"
   ]
  },
  {
   "cell_type": "code",
   "execution_count": 44,
   "id": "f0624d7f-937f-4888-89ac-bc930d8060b2",
   "metadata": {},
   "outputs": [],
   "source": [
    "m=['mayank', 232, 325, 54, 356.77,3,4,5]"
   ]
  },
  {
   "cell_type": "code",
   "execution_count": 46,
   "id": "aeb5b05e-2a60-4877-9373-453be92fd237",
   "metadata": {},
   "outputs": [
    {
     "data": {
      "text/plain": [
       "True"
      ]
     },
     "execution_count": 46,
     "metadata": {},
     "output_type": "execute_result"
    }
   ],
   "source": [
    "l+ll==m"
   ]
  },
  {
   "cell_type": "code",
   "execution_count": 47,
   "id": "565478ac-500a-447f-9de4-60eedb66164f",
   "metadata": {},
   "outputs": [
    {
     "data": {
      "text/plain": [
       "[3, 4, 5, 3, 4, 5, 3, 4, 5, 3, 4, 5, 3, 4, 5]"
      ]
     },
     "execution_count": 47,
     "metadata": {},
     "output_type": "execute_result"
    }
   ],
   "source": [
    "ll*5"
   ]
  },
  {
   "cell_type": "code",
   "execution_count": 49,
   "id": "7d6b76ef-c9fa-4c4d-941a-1209af8bf029",
   "metadata": {},
   "outputs": [
    {
     "data": {
      "text/plain": [
       "['mayank', 232, 325, 54, 356.77, 'mayank', 232, 325, 54, 356.77]"
      ]
     },
     "execution_count": 49,
     "metadata": {},
     "output_type": "execute_result"
    }
   ],
   "source": [
    "l*2"
   ]
  },
  {
   "cell_type": "code",
   "execution_count": 53,
   "id": "7cce96ad-78c2-4e33-a5ff-3434c03b115c",
   "metadata": {},
   "outputs": [
    {
     "data": {
      "text/plain": [
       "5"
      ]
     },
     "execution_count": 53,
     "metadata": {},
     "output_type": "execute_result"
    }
   ],
   "source": [
    "len(l)"
   ]
  },
  {
   "cell_type": "code",
   "execution_count": 54,
   "id": "1879ee8c-2333-4623-9b09-f649707ae848",
   "metadata": {},
   "outputs": [],
   "source": [
    "l.append(657)"
   ]
  },
  {
   "cell_type": "code",
   "execution_count": 55,
   "id": "b4b06799-bf51-44d6-80c9-565b3180f369",
   "metadata": {},
   "outputs": [
    {
     "data": {
      "text/plain": [
       "['mayank', 232, 325, 54, 356.77, 657]"
      ]
     },
     "execution_count": 55,
     "metadata": {},
     "output_type": "execute_result"
    }
   ],
   "source": [
    "l"
   ]
  },
  {
   "cell_type": "code",
   "execution_count": 57,
   "id": "0c8243d1-a982-4191-9175-271222f02c23",
   "metadata": {},
   "outputs": [],
   "source": [
    "l.append(True)"
   ]
  },
  {
   "cell_type": "code",
   "execution_count": 59,
   "id": "ef6d05be-4393-4018-866c-55d2d54ae931",
   "metadata": {},
   "outputs": [
    {
     "data": {
      "text/plain": [
       "['mayank', 232, 325, 54, 356.77, 657, True]"
      ]
     },
     "execution_count": 59,
     "metadata": {},
     "output_type": "execute_result"
    }
   ],
   "source": [
    "l"
   ]
  },
  {
   "cell_type": "code",
   "execution_count": 60,
   "id": "2f5bcbb3-8998-49d7-99fa-a42f8b67d98d",
   "metadata": {},
   "outputs": [],
   "source": [
    "l.append(ll)"
   ]
  },
  {
   "cell_type": "code",
   "execution_count": 61,
   "id": "403f29ce-b01b-487d-96d6-0d672df9a5f4",
   "metadata": {},
   "outputs": [
    {
     "data": {
      "text/plain": [
       "['mayank', 232, 325, 54, 356.77, 657, True, [3, 4, 5]]"
      ]
     },
     "execution_count": 61,
     "metadata": {},
     "output_type": "execute_result"
    }
   ],
   "source": [
    "l"
   ]
  },
  {
   "cell_type": "code",
   "execution_count": 64,
   "id": "39c3656e-5331-44b7-a6db-d1b1cc71476e",
   "metadata": {},
   "outputs": [
    {
     "data": {
      "text/plain": [
       "4"
      ]
     },
     "execution_count": 64,
     "metadata": {},
     "output_type": "execute_result"
    }
   ],
   "source": [
    "l[-1][-2]"
   ]
  },
  {
   "cell_type": "code",
   "execution_count": 65,
   "id": "eb7dc23b-f096-435b-a6c5-790e4962f5f2",
   "metadata": {},
   "outputs": [],
   "source": [
    "m=['fdf','fsdf']"
   ]
  },
  {
   "cell_type": "code",
   "execution_count": 66,
   "id": "f43585b0-ec7a-488c-b11a-d6176946f333",
   "metadata": {},
   "outputs": [],
   "source": [
    "l.append(m)"
   ]
  },
  {
   "cell_type": "code",
   "execution_count": 67,
   "id": "be86b700-0bc1-4574-b762-62b61b652705",
   "metadata": {},
   "outputs": [
    {
     "data": {
      "text/plain": [
       "['mayank', 232, 325, 54, 356.77, 657, True, [3, 4, 5], ['fdf', 'fsdf']]"
      ]
     },
     "execution_count": 67,
     "metadata": {},
     "output_type": "execute_result"
    }
   ],
   "source": [
    "l"
   ]
  },
  {
   "cell_type": "code",
   "execution_count": 68,
   "id": "0bfe8032-ec5c-4a2b-aba1-1d49d4657bed",
   "metadata": {},
   "outputs": [
    {
     "data": {
      "text/plain": [
       "'fdf'"
      ]
     },
     "execution_count": 68,
     "metadata": {},
     "output_type": "execute_result"
    }
   ],
   "source": [
    "l[-1][-2]"
   ]
  },
  {
   "cell_type": "code",
   "execution_count": 70,
   "id": "4cb19cf1-9520-44d3-bc19-17e2d5889dee",
   "metadata": {},
   "outputs": [],
   "source": [
    "l.extend('abcde')"
   ]
  },
  {
   "cell_type": "code",
   "execution_count": 71,
   "id": "51841c6f-37a1-496e-83b7-2d3981e63028",
   "metadata": {},
   "outputs": [
    {
     "data": {
      "text/plain": [
       "['mayank',\n",
       " 232,\n",
       " 325,\n",
       " 54,\n",
       " 356.77,\n",
       " 657,\n",
       " True,\n",
       " [3, 4, 5],\n",
       " ['fdf', 'fsdf'],\n",
       " 'a',\n",
       " 'b',\n",
       " 'c',\n",
       " 'd',\n",
       " 'e']"
      ]
     },
     "execution_count": 71,
     "metadata": {},
     "output_type": "execute_result"
    }
   ],
   "source": [
    "l"
   ]
  },
  {
   "cell_type": "code",
   "execution_count": 74,
   "id": "5999b19c-b4a4-4cc3-9af1-8ff1d1a98aad",
   "metadata": {},
   "outputs": [],
   "source": [
    "l.extend([23,54,65])"
   ]
  },
  {
   "cell_type": "code",
   "execution_count": 75,
   "id": "b47e8917-21ba-4517-aaa5-8b6b1ea40ecd",
   "metadata": {},
   "outputs": [
    {
     "data": {
      "text/plain": [
       "['mayank',\n",
       " 232,\n",
       " 325,\n",
       " 54,\n",
       " 356.77,\n",
       " 657,\n",
       " True,\n",
       " [3, 4, 5],\n",
       " ['fdf', 'fsdf'],\n",
       " 'a',\n",
       " 'b',\n",
       " 'c',\n",
       " 'd',\n",
       " 'e',\n",
       " 23,\n",
       " 54,\n",
       " 65]"
      ]
     },
     "execution_count": 75,
     "metadata": {},
     "output_type": "execute_result"
    }
   ],
   "source": [
    "l"
   ]
  },
  {
   "cell_type": "code",
   "execution_count": 76,
   "id": "1a56c485-a808-48f6-bf16-3d08d3b5fa39",
   "metadata": {},
   "outputs": [],
   "source": [
    "l.extend(ll)"
   ]
  },
  {
   "cell_type": "code",
   "execution_count": 77,
   "id": "1ca00870-4132-4559-ada8-cf137bb45e5c",
   "metadata": {},
   "outputs": [
    {
     "data": {
      "text/plain": [
       "['mayank',\n",
       " 232,\n",
       " 325,\n",
       " 54,\n",
       " 356.77,\n",
       " 657,\n",
       " True,\n",
       " [3, 4, 5],\n",
       " ['fdf', 'fsdf'],\n",
       " 'a',\n",
       " 'b',\n",
       " 'c',\n",
       " 'd',\n",
       " 'e',\n",
       " 23,\n",
       " 54,\n",
       " 65,\n",
       " 3,\n",
       " 4,\n",
       " 5]"
      ]
     },
     "execution_count": 77,
     "metadata": {},
     "output_type": "execute_result"
    }
   ],
   "source": [
    "l"
   ]
  },
  {
   "cell_type": "code",
   "execution_count": 81,
   "id": "0a63d9a0-7d88-4de2-8b91-a96858eb377a",
   "metadata": {},
   "outputs": [],
   "source": [
    "v=[3,4,5,6]"
   ]
  },
  {
   "cell_type": "code",
   "execution_count": 82,
   "id": "cc3fe500-5f39-4745-b9b7-1caf35c0bdf1",
   "metadata": {},
   "outputs": [],
   "source": [
    "##INSERT FUNCTION DETAILS"
   ]
  },
  {
   "cell_type": "code",
   "execution_count": 79,
   "id": "4c27dfad-b0f4-4274-bd08-9a67884c0857",
   "metadata": {
    "tags": []
   },
   "outputs": [],
   "source": [
    "v.insert(0,'mayank')"
   ]
  },
  {
   "cell_type": "code",
   "execution_count": 80,
   "id": "fc4a65ff-6040-4700-a337-9d62f9d57357",
   "metadata": {},
   "outputs": [
    {
     "data": {
      "text/plain": [
       "['mayank', 3, 4, 5, 6]"
      ]
     },
     "execution_count": 80,
     "metadata": {},
     "output_type": "execute_result"
    }
   ],
   "source": [
    "v"
   ]
  },
  {
   "cell_type": "code",
   "execution_count": 84,
   "id": "e947c161-09a7-4b82-ae4c-97036d868f8b",
   "metadata": {},
   "outputs": [],
   "source": [
    "v.insert(2,[True,4343,'m'])"
   ]
  },
  {
   "cell_type": "code",
   "execution_count": 85,
   "id": "395f6007-8acc-4976-b954-76b698ffcd07",
   "metadata": {},
   "outputs": [
    {
     "data": {
      "text/plain": [
       "[3, 4, [True, 4343, 'm'], 5, 6]"
      ]
     },
     "execution_count": 85,
     "metadata": {},
     "output_type": "execute_result"
    }
   ],
   "source": [
    "v"
   ]
  },
  {
   "cell_type": "code",
   "execution_count": 86,
   "id": "8f6b6907-7c3a-4910-bcdc-3b68c4d51807",
   "metadata": {},
   "outputs": [],
   "source": [
    "v.insert(-1,56)"
   ]
  },
  {
   "cell_type": "code",
   "execution_count": 87,
   "id": "37719f28-73d1-4cf1-a767-ef9e6e5e77b9",
   "metadata": {},
   "outputs": [
    {
     "data": {
      "text/plain": [
       "[3, 4, [True, 4343, 'm'], 5, 56, 6]"
      ]
     },
     "execution_count": 87,
     "metadata": {},
     "output_type": "execute_result"
    }
   ],
   "source": [
    "v"
   ]
  },
  {
   "cell_type": "code",
   "execution_count": 88,
   "id": "82b39edb-1384-439f-8a9a-69a8b30f7900",
   "metadata": {},
   "outputs": [],
   "source": [
    "v.insert(0,'mayank')"
   ]
  },
  {
   "cell_type": "code",
   "execution_count": 89,
   "id": "32339122-d603-4f84-8fc0-c06f8d059f10",
   "metadata": {},
   "outputs": [
    {
     "data": {
      "text/plain": [
       "['mayank', 3, 4, [True, 4343, 'm'], 5, 56, 6]"
      ]
     },
     "execution_count": 89,
     "metadata": {},
     "output_type": "execute_result"
    }
   ],
   "source": [
    "v"
   ]
  },
  {
   "cell_type": "code",
   "execution_count": 90,
   "id": "ea4770e9-a6cc-4661-b117-71c467df0349",
   "metadata": {},
   "outputs": [
    {
     "data": {
      "text/plain": [
       "6"
      ]
     },
     "execution_count": 90,
     "metadata": {},
     "output_type": "execute_result"
    }
   ],
   "source": [
    "v.pop()"
   ]
  },
  {
   "cell_type": "code",
   "execution_count": 91,
   "id": "7957877a-2f84-493a-b3a1-2de3be9ce848",
   "metadata": {},
   "outputs": [
    {
     "data": {
      "text/plain": [
       "['mayank', 3, 4, [True, 4343, 'm'], 5, 56]"
      ]
     },
     "execution_count": 91,
     "metadata": {},
     "output_type": "execute_result"
    }
   ],
   "source": [
    "v"
   ]
  },
  {
   "cell_type": "code",
   "execution_count": 92,
   "id": "0ae682c4-6bb1-442f-8996-7d92109fe255",
   "metadata": {},
   "outputs": [
    {
     "data": {
      "text/plain": [
       "56"
      ]
     },
     "execution_count": 92,
     "metadata": {},
     "output_type": "execute_result"
    }
   ],
   "source": [
    "v.pop()"
   ]
  },
  {
   "cell_type": "code",
   "execution_count": 93,
   "id": "e6d42ff1-ea64-4653-8ee8-9e325cdc5057",
   "metadata": {},
   "outputs": [
    {
     "data": {
      "text/plain": [
       "['mayank', 3, 4, [True, 4343, 'm'], 5]"
      ]
     },
     "execution_count": 93,
     "metadata": {},
     "output_type": "execute_result"
    }
   ],
   "source": [
    "v"
   ]
  },
  {
   "cell_type": "code",
   "execution_count": 94,
   "id": "9566a326-5cae-412c-ba64-256d38150414",
   "metadata": {},
   "outputs": [
    {
     "data": {
      "text/plain": [
       "[True, 4343, 'm']"
      ]
     },
     "execution_count": 94,
     "metadata": {},
     "output_type": "execute_result"
    }
   ],
   "source": [
    "v.pop(3)"
   ]
  },
  {
   "cell_type": "code",
   "execution_count": 95,
   "id": "40684266-5cc5-491d-a4be-3e05c15ee8c8",
   "metadata": {},
   "outputs": [
    {
     "data": {
      "text/plain": [
       "['mayank', 3, 4, 5]"
      ]
     },
     "execution_count": 95,
     "metadata": {},
     "output_type": "execute_result"
    }
   ],
   "source": [
    "v"
   ]
  },
  {
   "cell_type": "code",
   "execution_count": 96,
   "id": "6beab958-cd25-4996-a9bf-a4e94e8cbbb0",
   "metadata": {},
   "outputs": [],
   "source": [
    "v.remove(4)"
   ]
  },
  {
   "cell_type": "code",
   "execution_count": 97,
   "id": "e7b817d7-079a-4fdd-a121-12b803146eee",
   "metadata": {},
   "outputs": [
    {
     "data": {
      "text/plain": [
       "['mayank', 3, 5]"
      ]
     },
     "execution_count": 97,
     "metadata": {},
     "output_type": "execute_result"
    }
   ],
   "source": [
    "v"
   ]
  },
  {
   "cell_type": "code",
   "execution_count": 98,
   "id": "bcdae1ba-1325-483a-8a1e-aa939547a426",
   "metadata": {},
   "outputs": [],
   "source": [
    "vv=[34,556,3,54,'mayank',[43,556,24],434]"
   ]
  },
  {
   "cell_type": "code",
   "execution_count": 99,
   "id": "017d5653-2074-4b9a-8622-a5d6b36f74e4",
   "metadata": {},
   "outputs": [],
   "source": [
    "vv[5].remove(556)"
   ]
  },
  {
   "cell_type": "code",
   "execution_count": 100,
   "id": "a8c0196d-1590-4854-ab64-5f3669b6c3d2",
   "metadata": {},
   "outputs": [
    {
     "data": {
      "text/plain": [
       "[34, 556, 3, 54, 'mayank', [43, 24], 434]"
      ]
     },
     "execution_count": 100,
     "metadata": {},
     "output_type": "execute_result"
    }
   ],
   "source": [
    "vv"
   ]
  },
  {
   "cell_type": "code",
   "execution_count": 103,
   "id": "1aaddca8-e879-4d2e-affd-2b4853d5e544",
   "metadata": {},
   "outputs": [
    {
     "data": {
      "text/plain": [
       "[34, 556, 3, 54, 'mayank', [43, 24], 434]"
      ]
     },
     "execution_count": 103,
     "metadata": {},
     "output_type": "execute_result"
    }
   ],
   "source": [
    "vv"
   ]
  },
  {
   "cell_type": "code",
   "execution_count": 104,
   "id": "eaddd98e-e9be-4c08-8560-190de7a2a734",
   "metadata": {},
   "outputs": [
    {
     "ename": "AttributeError",
     "evalue": "'str' object has no attribute 'remove'",
     "output_type": "error",
     "traceback": [
      "\u001b[0;31m---------------------------------------------------------------------------\u001b[0m",
      "\u001b[0;31mAttributeError\u001b[0m                            Traceback (most recent call last)",
      "Cell \u001b[0;32mIn[104], line 1\u001b[0m\n\u001b[0;32m----> 1\u001b[0m \u001b[43mvv\u001b[49m\u001b[43m[\u001b[49m\u001b[38;5;241;43m4\u001b[39;49m\u001b[43m]\u001b[49m\u001b[38;5;241;43m.\u001b[39;49m\u001b[43mremove\u001b[49m(m)\n",
      "\u001b[0;31mAttributeError\u001b[0m: 'str' object has no attribute 'remove'"
     ]
    }
   ],
   "source": [
    "vv[4].remove(m)"
   ]
  },
  {
   "cell_type": "code",
   "execution_count": 105,
   "id": "bd9ab69c-c997-4388-a644-662df3703d67",
   "metadata": {},
   "outputs": [
    {
     "data": {
      "text/plain": [
       "[34, 556, 3, 54, 'mayank', [43, 24], 434]"
      ]
     },
     "execution_count": 105,
     "metadata": {},
     "output_type": "execute_result"
    }
   ],
   "source": [
    "vv"
   ]
  },
  {
   "cell_type": "code",
   "execution_count": 106,
   "id": "49e5d430-4882-4dcf-940c-d558bce88916",
   "metadata": {},
   "outputs": [
    {
     "data": {
      "text/plain": [
       "[434, [43, 24], 'mayank', 54, 3, 556, 34]"
      ]
     },
     "execution_count": 106,
     "metadata": {},
     "output_type": "execute_result"
    }
   ],
   "source": [
    "vv[::-1]"
   ]
  },
  {
   "cell_type": "code",
   "execution_count": 107,
   "id": "3f236175-f738-415a-bae9-9ecea9ab3118",
   "metadata": {},
   "outputs": [
    {
     "data": {
      "text/plain": [
       "[34, 556, 3, 54, 'mayank', [43, 24], 434]"
      ]
     },
     "execution_count": 107,
     "metadata": {},
     "output_type": "execute_result"
    }
   ],
   "source": [
    "vv"
   ]
  },
  {
   "cell_type": "code",
   "execution_count": 108,
   "id": "86bbde59-cfc5-40fd-8d16-7bd1fd8b4e28",
   "metadata": {},
   "outputs": [],
   "source": [
    "vv.reverse()"
   ]
  },
  {
   "cell_type": "code",
   "execution_count": 109,
   "id": "f4716c5a-92ea-4b17-a165-f7114fd53aeb",
   "metadata": {},
   "outputs": [
    {
     "data": {
      "text/plain": [
       "[434, [43, 24], 'mayank', 54, 3, 556, 34]"
      ]
     },
     "execution_count": 109,
     "metadata": {},
     "output_type": "execute_result"
    }
   ],
   "source": [
    "vv"
   ]
  },
  {
   "cell_type": "code",
   "execution_count": 110,
   "id": "73b721d9-43be-4c0a-9b22-a8309cdea28b",
   "metadata": {},
   "outputs": [],
   "source": [
    "vv=vv[::-1]"
   ]
  },
  {
   "cell_type": "code",
   "execution_count": 111,
   "id": "af7a8a68-07d6-4114-b2bf-4e0f5f61f178",
   "metadata": {},
   "outputs": [
    {
     "data": {
      "text/plain": [
       "[34, 556, 3, 54, 'mayank', [43, 24], 434]"
      ]
     },
     "execution_count": 111,
     "metadata": {},
     "output_type": "execute_result"
    }
   ],
   "source": [
    "vv"
   ]
  },
  {
   "cell_type": "code",
   "execution_count": 112,
   "id": "46322d0b-ddd6-4a84-b4db-2b002ff0560b",
   "metadata": {},
   "outputs": [],
   "source": [
    "v2=[32,44,67,3,56,788,32,56,78,2,3]"
   ]
  },
  {
   "cell_type": "code",
   "execution_count": 113,
   "id": "1504904d-0f02-489a-b853-297d605b3239",
   "metadata": {},
   "outputs": [],
   "source": [
    "v2.sort()"
   ]
  },
  {
   "cell_type": "code",
   "execution_count": 114,
   "id": "1a33821d-726e-4190-95b7-ebe26d51801d",
   "metadata": {},
   "outputs": [
    {
     "data": {
      "text/plain": [
       "[2, 3, 3, 32, 32, 44, 56, 56, 67, 78, 788]"
      ]
     },
     "execution_count": 114,
     "metadata": {},
     "output_type": "execute_result"
    }
   ],
   "source": [
    "v2"
   ]
  },
  {
   "cell_type": "code",
   "execution_count": 116,
   "id": "36383316-29f7-4a6f-b1db-234407495a06",
   "metadata": {},
   "outputs": [],
   "source": [
    "v3=['mayank','shivani','aaradhiya','deepak','sonu']"
   ]
  },
  {
   "cell_type": "code",
   "execution_count": 119,
   "id": "1067bc45-d4be-4930-9692-410c3cce4eea",
   "metadata": {},
   "outputs": [],
   "source": [
    "v3.sort()"
   ]
  },
  {
   "cell_type": "code",
   "execution_count": 120,
   "id": "19488ce9-8c59-4d9d-97e1-45269896276c",
   "metadata": {},
   "outputs": [
    {
     "data": {
      "text/plain": [
       "['aaradhiya', 'deepak', 'mayank', 'shivani', 'sonu']"
      ]
     },
     "execution_count": 120,
     "metadata": {},
     "output_type": "execute_result"
    }
   ],
   "source": [
    "v3"
   ]
  },
  {
   "cell_type": "code",
   "execution_count": 122,
   "id": "9c9a0959-cc91-4cd5-a13d-1a845936eae1",
   "metadata": {},
   "outputs": [],
   "source": [
    "v3.sort(reverse=True)"
   ]
  },
  {
   "cell_type": "code",
   "execution_count": 123,
   "id": "84270b84-8ed9-4009-9bf8-3cf467405a44",
   "metadata": {},
   "outputs": [
    {
     "data": {
      "text/plain": [
       "['sonu', 'shivani', 'mayank', 'deepak', 'aaradhiya']"
      ]
     },
     "execution_count": 123,
     "metadata": {},
     "output_type": "execute_result"
    }
   ],
   "source": [
    "v3"
   ]
  },
  {
   "cell_type": "code",
   "execution_count": 126,
   "id": "7863c256-1c89-4b97-980b-22c1698f8244",
   "metadata": {},
   "outputs": [
    {
     "data": {
      "text/plain": [
       "4"
      ]
     },
     "execution_count": 126,
     "metadata": {},
     "output_type": "execute_result"
    }
   ],
   "source": [
    "v3.index('aaradhiya')"
   ]
  },
  {
   "cell_type": "code",
   "execution_count": 127,
   "id": "6b20766c-ea46-46ee-a111-d203216e1270",
   "metadata": {},
   "outputs": [
    {
     "data": {
      "text/plain": [
       "1"
      ]
     },
     "execution_count": 127,
     "metadata": {},
     "output_type": "execute_result"
    }
   ],
   "source": [
    "v3.count('deepak')"
   ]
  },
  {
   "cell_type": "code",
   "execution_count": 129,
   "id": "9cc9a405-7e64-4084-941b-779347499b50",
   "metadata": {},
   "outputs": [],
   "source": [
    "v4=[23,45,67,78]"
   ]
  },
  {
   "cell_type": "code",
   "execution_count": 130,
   "id": "0e9b1e93-852c-456e-aa67-4b0ba6903f5d",
   "metadata": {},
   "outputs": [],
   "source": [
    "v4[3]=444"
   ]
  },
  {
   "cell_type": "code",
   "execution_count": 131,
   "id": "12f46833-0f03-4ad0-802f-ed5af6b7785e",
   "metadata": {},
   "outputs": [
    {
     "data": {
      "text/plain": [
       "[23, 45, 67, 444]"
      ]
     },
     "execution_count": 131,
     "metadata": {},
     "output_type": "execute_result"
    }
   ],
   "source": [
    "v4"
   ]
  },
  {
   "cell_type": "code",
   "execution_count": 132,
   "id": "761c597e-6e6d-4b7e-87a0-378e6fc84e31",
   "metadata": {},
   "outputs": [],
   "source": [
    "v5=['a','b','c']"
   ]
  },
  {
   "cell_type": "code",
   "execution_count": 133,
   "id": "60e364cb-d330-4187-8378-729825665a1d",
   "metadata": {},
   "outputs": [],
   "source": [
    "v5[1]='f'"
   ]
  },
  {
   "cell_type": "code",
   "execution_count": 134,
   "id": "c13c650d-440b-4b54-8669-1829780db3cb",
   "metadata": {},
   "outputs": [
    {
     "data": {
      "text/plain": [
       "['a', 'f', 'c']"
      ]
     },
     "execution_count": 134,
     "metadata": {},
     "output_type": "execute_result"
    }
   ],
   "source": [
    "v5"
   ]
  },
  {
   "cell_type": "code",
   "execution_count": 135,
   "id": "fc4238c4-9c9a-466c-b2f7-dd598ec4013b",
   "metadata": {},
   "outputs": [],
   "source": [
    "v6=['mayank','joshi']"
   ]
  },
  {
   "cell_type": "code",
   "execution_count": 136,
   "id": "01ee1445-15e9-458e-ab13-5970c1b88e66",
   "metadata": {},
   "outputs": [],
   "source": [
    "v6[0]='deepak'"
   ]
  },
  {
   "cell_type": "code",
   "execution_count": 137,
   "id": "1c4f9264-2e15-449e-b701-1c9e97abf0a8",
   "metadata": {},
   "outputs": [
    {
     "data": {
      "text/plain": [
       "['deepak', 'joshi']"
      ]
     },
     "execution_count": 137,
     "metadata": {},
     "output_type": "execute_result"
    }
   ],
   "source": [
    "v6"
   ]
  },
  {
   "cell_type": "code",
   "execution_count": 2,
   "id": "73cd49d3-1697-4d6e-b08d-2ac88bc66f78",
   "metadata": {},
   "outputs": [],
   "source": [
    "z='mayank'"
   ]
  },
  {
   "cell_type": "code",
   "execution_count": 139,
   "id": "0f12a903-7c42-492b-b42d-35cfad460bb4",
   "metadata": {},
   "outputs": [
    {
     "ename": "TypeError",
     "evalue": "'str' object does not support item assignment",
     "output_type": "error",
     "traceback": [
      "\u001b[0;31m---------------------------------------------------------------------------\u001b[0m",
      "\u001b[0;31mTypeError\u001b[0m                                 Traceback (most recent call last)",
      "Cell \u001b[0;32mIn[139], line 1\u001b[0m\n\u001b[0;32m----> 1\u001b[0m \u001b[43mz\u001b[49m\u001b[43m[\u001b[49m\u001b[38;5;241;43m4\u001b[39;49m\u001b[43m]\u001b[49m\u001b[38;5;241m=\u001b[39m\u001b[38;5;124m'\u001b[39m\u001b[38;5;124ms\u001b[39m\u001b[38;5;124m'\u001b[39m\n",
      "\u001b[0;31mTypeError\u001b[0m: 'str' object does not support item assignment"
     ]
    }
   ],
   "source": [
    "z[4]='s'"
   ]
  },
  {
   "cell_type": "code",
   "execution_count": 4,
   "id": "94f44bb4-0ad3-47e8-9801-014533575291",
   "metadata": {},
   "outputs": [],
   "source": [
    "z=z.replace('m','a')"
   ]
  },
  {
   "cell_type": "code",
   "execution_count": 5,
   "id": "d0862103-e8d7-43d6-9ec2-6648c4affd4d",
   "metadata": {},
   "outputs": [
    {
     "data": {
      "text/plain": [
       "'aayank'"
      ]
     },
     "execution_count": 5,
     "metadata": {},
     "output_type": "execute_result"
    }
   ],
   "source": [
    "z"
   ]
  },
  {
   "cell_type": "code",
   "execution_count": 6,
   "id": "4ec5c321-89da-4816-9097-8bf794d63274",
   "metadata": {},
   "outputs": [],
   "source": [
    "t=(2123,43,'mayank',23+4j,True,False,[13,434,5,3])"
   ]
  },
  {
   "cell_type": "code",
   "execution_count": 7,
   "id": "133d706d-f5ca-4357-94d1-b06d8ddc8124",
   "metadata": {},
   "outputs": [
    {
     "data": {
      "text/plain": [
       "(2123, 43, 'mayank', (23+4j), True, False, [13, 434, 5, 3])"
      ]
     },
     "execution_count": 7,
     "metadata": {},
     "output_type": "execute_result"
    }
   ],
   "source": [
    "t"
   ]
  },
  {
   "cell_type": "code",
   "execution_count": 8,
   "id": "7c17a2a8-e818-4683-bfd8-5b258cc95006",
   "metadata": {},
   "outputs": [
    {
     "data": {
      "text/plain": [
       "tuple"
      ]
     },
     "execution_count": 8,
     "metadata": {},
     "output_type": "execute_result"
    }
   ],
   "source": [
    "type(t)"
   ]
  },
  {
   "cell_type": "code",
   "execution_count": 9,
   "id": "667699bf-59b2-4e93-b62a-34654356de83",
   "metadata": {},
   "outputs": [
    {
     "data": {
      "text/plain": [
       "7"
      ]
     },
     "execution_count": 9,
     "metadata": {},
     "output_type": "execute_result"
    }
   ],
   "source": [
    "len(t)"
   ]
  },
  {
   "cell_type": "code",
   "execution_count": 10,
   "id": "24be872e-d124-4574-970b-56328e03e530",
   "metadata": {},
   "outputs": [
    {
     "data": {
      "text/plain": [
       "(23+4j)"
      ]
     },
     "execution_count": 10,
     "metadata": {},
     "output_type": "execute_result"
    }
   ],
   "source": [
    "t[3]"
   ]
  },
  {
   "cell_type": "code",
   "execution_count": 11,
   "id": "9d88a16a-ad63-4918-9055-0876353cbce7",
   "metadata": {},
   "outputs": [
    {
     "data": {
      "text/plain": [
       "([13, 434, 5, 3], False, True, (23+4j), 'mayank', 43, 2123)"
      ]
     },
     "execution_count": 11,
     "metadata": {},
     "output_type": "execute_result"
    }
   ],
   "source": [
    "t[::-1]"
   ]
  },
  {
   "cell_type": "code",
   "execution_count": 12,
   "id": "1dfa57f0-1df5-4531-819b-3ea3ca20126a",
   "metadata": {},
   "outputs": [
    {
     "data": {
      "text/plain": [
       "([13, 434, 5, 3], (23+4j), 2123)"
      ]
     },
     "execution_count": 12,
     "metadata": {},
     "output_type": "execute_result"
    }
   ],
   "source": [
    "t[::-3]"
   ]
  },
  {
   "cell_type": "code",
   "execution_count": 13,
   "id": "03bd127b-be2e-4ed0-8fd9-203f88249fc9",
   "metadata": {},
   "outputs": [
    {
     "data": {
      "text/plain": [
       "(2123, 43, 'mayank', (23+4j), True, False, [13, 434, 5, 3])"
      ]
     },
     "execution_count": 13,
     "metadata": {},
     "output_type": "execute_result"
    }
   ],
   "source": [
    "t"
   ]
  },
  {
   "cell_type": "code",
   "execution_count": 14,
   "id": "d195dd2e-cb65-43e8-9aff-d67ac5836526",
   "metadata": {},
   "outputs": [
    {
     "data": {
      "text/plain": [
       "'a'"
      ]
     },
     "execution_count": 14,
     "metadata": {},
     "output_type": "execute_result"
    }
   ],
   "source": [
    "t[2][3]"
   ]
  },
  {
   "cell_type": "code",
   "execution_count": 15,
   "id": "e08267d7-f069-4dfe-b5cd-a956c327cbf1",
   "metadata": {},
   "outputs": [
    {
     "data": {
      "text/plain": [
       "3"
      ]
     },
     "execution_count": 15,
     "metadata": {},
     "output_type": "execute_result"
    }
   ],
   "source": [
    "t[-1][3]"
   ]
  },
  {
   "cell_type": "code",
   "execution_count": 18,
   "id": "2456e788-6d47-450f-b996-d4b3348284ff",
   "metadata": {},
   "outputs": [
    {
     "data": {
      "text/plain": [
       "(2123, 43, 'mayank', (23+4j), True, False, [13, 434, 5, 3])"
      ]
     },
     "execution_count": 18,
     "metadata": {},
     "output_type": "execute_result"
    }
   ],
   "source": [
    "t"
   ]
  },
  {
   "cell_type": "code",
   "execution_count": 19,
   "id": "988ac60e-f58f-4258-835e-3fa041030a6e",
   "metadata": {},
   "outputs": [],
   "source": [
    "t1=[434,5345,'mayank']"
   ]
  },
  {
   "cell_type": "code",
   "execution_count": 20,
   "id": "2e72c7d9-9770-49cb-ad00-413cfeeeeec6",
   "metadata": {},
   "outputs": [],
   "source": [
    "t1[-1]=24"
   ]
  },
  {
   "cell_type": "code",
   "execution_count": 21,
   "id": "8de15c0b-142e-44d4-9470-c39a8e759984",
   "metadata": {},
   "outputs": [
    {
     "data": {
      "text/plain": [
       "[434, 5345, 24]"
      ]
     },
     "execution_count": 21,
     "metadata": {},
     "output_type": "execute_result"
    }
   ],
   "source": [
    "t1"
   ]
  },
  {
   "cell_type": "code",
   "execution_count": 22,
   "id": "272f6b0d-0de1-46b6-b240-f15552e39a80",
   "metadata": {},
   "outputs": [],
   "source": [
    "t1[0]=56"
   ]
  },
  {
   "cell_type": "code",
   "execution_count": 23,
   "id": "9b3c3450-cc2f-4843-acd6-67d18498689c",
   "metadata": {},
   "outputs": [
    {
     "data": {
      "text/plain": [
       "[56, 5345, 24]"
      ]
     },
     "execution_count": 23,
     "metadata": {},
     "output_type": "execute_result"
    }
   ],
   "source": [
    "t1"
   ]
  },
  {
   "cell_type": "code",
   "execution_count": 25,
   "id": "992f0d08-1d04-4545-bd69-402d17307aec",
   "metadata": {},
   "outputs": [],
   "source": [
    "t1[0]='mayank'"
   ]
  },
  {
   "cell_type": "code",
   "execution_count": 26,
   "id": "0ae13fa1-ad63-4b29-a899-a7dca4240fc8",
   "metadata": {},
   "outputs": [
    {
     "data": {
      "text/plain": [
       "['mayank', 5345, 24]"
      ]
     },
     "execution_count": 26,
     "metadata": {},
     "output_type": "execute_result"
    }
   ],
   "source": [
    "t1"
   ]
  },
  {
   "cell_type": "code",
   "execution_count": 27,
   "id": "6e00771b-91e8-4048-ab50-c6242265cbf6",
   "metadata": {},
   "outputs": [
    {
     "data": {
      "text/plain": [
       "['mayank', 5345, 24]"
      ]
     },
     "execution_count": 27,
     "metadata": {},
     "output_type": "execute_result"
    }
   ],
   "source": [
    "t1"
   ]
  },
  {
   "cell_type": "code",
   "execution_count": 28,
   "id": "f8571976-b8f2-46e3-a18d-9f3185f8f76b",
   "metadata": {},
   "outputs": [],
   "source": [
    "t2=(243,434,5,45,'mayank')"
   ]
  },
  {
   "cell_type": "code",
   "execution_count": 29,
   "id": "d5e1fb08-b022-4adb-b293-56427a38e4c4",
   "metadata": {},
   "outputs": [
    {
     "ename": "TypeError",
     "evalue": "'tuple' object does not support item assignment",
     "output_type": "error",
     "traceback": [
      "\u001b[0;31m---------------------------------------------------------------------------\u001b[0m",
      "\u001b[0;31mTypeError\u001b[0m                                 Traceback (most recent call last)",
      "Cell \u001b[0;32mIn[29], line 1\u001b[0m\n\u001b[0;32m----> 1\u001b[0m \u001b[43mt2\u001b[49m\u001b[43m[\u001b[49m\u001b[38;5;241;43m-\u001b[39;49m\u001b[38;5;241;43m1\u001b[39;49m\u001b[43m]\u001b[49m\u001b[38;5;241m=\u001b[39m\u001b[38;5;241m2323\u001b[39m\n",
      "\u001b[0;31mTypeError\u001b[0m: 'tuple' object does not support item assignment"
     ]
    }
   ],
   "source": [
    "t2[-1]=2323"
   ]
  },
  {
   "cell_type": "code",
   "execution_count": 31,
   "id": "a4ed1c78-800a-4830-a63a-fc027a0fac90",
   "metadata": {},
   "outputs": [
    {
     "ename": "TypeError",
     "evalue": "'tuple' object does not support item assignment",
     "output_type": "error",
     "traceback": [
      "\u001b[0;31m---------------------------------------------------------------------------\u001b[0m",
      "\u001b[0;31mTypeError\u001b[0m                                 Traceback (most recent call last)",
      "Cell \u001b[0;32mIn[31], line 1\u001b[0m\n\u001b[0;32m----> 1\u001b[0m \u001b[43mt2\u001b[49m\u001b[43m[\u001b[49m\u001b[38;5;241;43m0\u001b[39;49m\u001b[43m]\u001b[49m\u001b[38;5;241m=\u001b[39m\u001b[38;5;241m3243\u001b[39m\n",
      "\u001b[0;31mTypeError\u001b[0m: 'tuple' object does not support item assignment"
     ]
    }
   ],
   "source": [
    "t2[0]=3243"
   ]
  },
  {
   "cell_type": "code",
   "execution_count": 32,
   "id": "e8f95d78-d600-440b-8606-09fed0d3ea6f",
   "metadata": {},
   "outputs": [],
   "source": [
    "l5=[323,43,5,545,'joshi']"
   ]
  },
  {
   "cell_type": "code",
   "execution_count": 33,
   "id": "cd60df2d-797f-47a3-8b13-3e1762754382",
   "metadata": {},
   "outputs": [],
   "source": [
    "l5[-1]='mayank'"
   ]
  },
  {
   "cell_type": "code",
   "execution_count": 34,
   "id": "58fa0b84-ce65-4c7a-86ae-fc24437db675",
   "metadata": {},
   "outputs": [
    {
     "data": {
      "text/plain": [
       "[323, 43, 5, 545, 'mayank']"
      ]
     },
     "execution_count": 34,
     "metadata": {},
     "output_type": "execute_result"
    }
   ],
   "source": [
    "l5"
   ]
  },
  {
   "cell_type": "code",
   "execution_count": 35,
   "id": "e5cd159e-61b0-4e57-b334-451d4a6ee60b",
   "metadata": {},
   "outputs": [],
   "source": [
    "n3='mayank'"
   ]
  },
  {
   "cell_type": "code",
   "execution_count": 37,
   "id": "dfcdd887-8d92-45f8-9baf-d5504a9ce7b9",
   "metadata": {},
   "outputs": [
    {
     "ename": "TypeError",
     "evalue": "'str' object does not support item assignment",
     "output_type": "error",
     "traceback": [
      "\u001b[0;31m---------------------------------------------------------------------------\u001b[0m",
      "\u001b[0;31mTypeError\u001b[0m                                 Traceback (most recent call last)",
      "Cell \u001b[0;32mIn[37], line 1\u001b[0m\n\u001b[0;32m----> 1\u001b[0m \u001b[43mn3\u001b[49m\u001b[43m[\u001b[49m\u001b[38;5;241;43m4\u001b[39;49m\u001b[43m]\u001b[49m\u001b[38;5;241m=\u001b[39m\u001b[38;5;124m'\u001b[39m\u001b[38;5;124mb\u001b[39m\u001b[38;5;124m'\u001b[39m\n",
      "\u001b[0;31mTypeError\u001b[0m: 'str' object does not support item assignment"
     ]
    }
   ],
   "source": [
    "n3[4]='b'"
   ]
  },
  {
   "cell_type": "code",
   "execution_count": 38,
   "id": "e979113b-2d79-4db1-a5d5-717f0237f9a6",
   "metadata": {},
   "outputs": [
    {
     "data": {
      "text/plain": [
       "(243, 434, 5, 45, 'mayank')"
      ]
     },
     "execution_count": 38,
     "metadata": {},
     "output_type": "execute_result"
    }
   ],
   "source": [
    "t2"
   ]
  },
  {
   "cell_type": "code",
   "execution_count": 39,
   "id": "a57d3b9f-bff2-451c-b44b-935f58d2a711",
   "metadata": {},
   "outputs": [
    {
     "data": {
      "text/plain": [
       "('mayank', 45, 5, 434, 243)"
      ]
     },
     "execution_count": 39,
     "metadata": {},
     "output_type": "execute_result"
    }
   ],
   "source": [
    "t2[::-1]"
   ]
  },
  {
   "cell_type": "code",
   "execution_count": 40,
   "id": "d5ef8c9a-9e63-4fa9-9b55-1e2901b12015",
   "metadata": {},
   "outputs": [
    {
     "data": {
      "text/plain": [
       "(243, 434, 5, 45, 'mayank')"
      ]
     },
     "execution_count": 40,
     "metadata": {},
     "output_type": "execute_result"
    }
   ],
   "source": [
    "t2"
   ]
  },
  {
   "cell_type": "code",
   "execution_count": 41,
   "id": "602b20f1-8f5e-4252-bd61-d1e3c7a577b4",
   "metadata": {},
   "outputs": [
    {
     "data": {
      "text/plain": [
       "['mayank', 545, 5, 43, 323]"
      ]
     },
     "execution_count": 41,
     "metadata": {},
     "output_type": "execute_result"
    }
   ],
   "source": [
    "l5[::-1]"
   ]
  },
  {
   "cell_type": "code",
   "execution_count": 42,
   "id": "3727df5c-33c7-4356-9f70-3d0b273bb98d",
   "metadata": {},
   "outputs": [
    {
     "data": {
      "text/plain": [
       "[323, 43, 5, 545, 'mayank']"
      ]
     },
     "execution_count": 42,
     "metadata": {},
     "output_type": "execute_result"
    }
   ],
   "source": [
    "l5"
   ]
  },
  {
   "cell_type": "code",
   "execution_count": 45,
   "id": "4c21427a-a061-4368-b6af-3b0f761b311b",
   "metadata": {},
   "outputs": [
    {
     "data": {
      "text/plain": [
       "0"
      ]
     },
     "execution_count": 45,
     "metadata": {},
     "output_type": "execute_result"
    }
   ],
   "source": [
    "t2.count(23)"
   ]
  },
  {
   "cell_type": "code",
   "execution_count": 46,
   "id": "e10afbea-d915-4993-9185-08b455585f4c",
   "metadata": {},
   "outputs": [
    {
     "data": {
      "text/plain": [
       "4"
      ]
     },
     "execution_count": 46,
     "metadata": {},
     "output_type": "execute_result"
    }
   ],
   "source": [
    "t2.index('mayank')"
   ]
  },
  {
   "cell_type": "code",
   "execution_count": 51,
   "id": "d443db6d-61ca-4044-920e-7ee96fd146cb",
   "metadata": {},
   "outputs": [],
   "source": [
    "s1={12,32,4,'mayank',23+5j,True,(343,43,43)}"
   ]
  },
  {
   "cell_type": "code",
   "execution_count": 48,
   "id": "74483ce6-521a-4dfd-b5c8-004aee075a19",
   "metadata": {},
   "outputs": [
    {
     "data": {
      "text/plain": [
       "set"
      ]
     },
     "execution_count": 48,
     "metadata": {},
     "output_type": "execute_result"
    }
   ],
   "source": [
    "type(s1)"
   ]
  },
  {
   "cell_type": "code",
   "execution_count": 57,
   "id": "f6d740b4-7b5c-49ba-8b05-451503aa22d1",
   "metadata": {},
   "outputs": [],
   "source": [
    "s2={1,2,1,1,1,2,2,2,2,3,4,3,4,3,5,6,6,4,7,7,8,9,6,5,9,'mayank',\"Mayank\"}"
   ]
  },
  {
   "cell_type": "code",
   "execution_count": 58,
   "id": "00dc1b40-e42b-4d46-b682-e8e68b0ca998",
   "metadata": {},
   "outputs": [
    {
     "data": {
      "text/plain": [
       "{1, 2, 3, 4, 5, 6, 7, 8, 9, 'Mayank', 'mayank'}"
      ]
     },
     "execution_count": 58,
     "metadata": {},
     "output_type": "execute_result"
    }
   ],
   "source": [
    "s2"
   ]
  },
  {
   "cell_type": "code",
   "execution_count": 59,
   "id": "300292a8-de65-41c4-88aa-5123d6f7c5ba",
   "metadata": {},
   "outputs": [],
   "source": [
    "l6=[1,2,1,1,1,2,2,2,2,3,4,3,4,3,5,6,6,4,7,7,8,9,6,5,9,'mayank',\"Mayank\"]"
   ]
  },
  {
   "cell_type": "code",
   "execution_count": 60,
   "id": "83b00acb-3da7-42c6-bdf7-a7065d188d04",
   "metadata": {},
   "outputs": [
    {
     "data": {
      "text/plain": [
       "{1, 2, 3, 4, 5, 6, 7, 8, 9, 'Mayank', 'mayank'}"
      ]
     },
     "execution_count": 60,
     "metadata": {},
     "output_type": "execute_result"
    }
   ],
   "source": [
    "set(l6)"
   ]
  },
  {
   "cell_type": "code",
   "execution_count": 63,
   "id": "a290d33d-6b1c-46fb-915b-ce07e639a73b",
   "metadata": {},
   "outputs": [],
   "source": [
    "l6=list(set(l6))"
   ]
  },
  {
   "cell_type": "code",
   "execution_count": 64,
   "id": "cd071741-bb97-43f9-8393-e34b6cb46c85",
   "metadata": {},
   "outputs": [
    {
     "data": {
      "text/plain": [
       "[1, 2, 3, 4, 5, 6, 7, 8, 9, 'Mayank', 'mayank']"
      ]
     },
     "execution_count": 64,
     "metadata": {},
     "output_type": "execute_result"
    }
   ],
   "source": [
    "l6"
   ]
  },
  {
   "cell_type": "code",
   "execution_count": 66,
   "id": "6423ab6c-5332-4ab9-8bf9-3466131a79ed",
   "metadata": {},
   "outputs": [],
   "source": [
    "s3={24,45,6,76,56,424,'apv','sfds'}"
   ]
  },
  {
   "cell_type": "code",
   "execution_count": 67,
   "id": "4eb58d7a-1c3f-4ff3-84bb-0798e06b60eb",
   "metadata": {},
   "outputs": [
    {
     "data": {
      "text/plain": [
       "{24, 424, 45, 56, 6, 76, 'apv', 'sfds'}"
      ]
     },
     "execution_count": 67,
     "metadata": {},
     "output_type": "execute_result"
    }
   ],
   "source": [
    "s3"
   ]
  },
  {
   "cell_type": "code",
   "execution_count": 68,
   "id": "939db677-c223-43c8-b92f-bf02e78cdac6",
   "metadata": {},
   "outputs": [
    {
     "ename": "TypeError",
     "evalue": "'set' object is not subscriptable",
     "output_type": "error",
     "traceback": [
      "\u001b[0;31m---------------------------------------------------------------------------\u001b[0m",
      "\u001b[0;31mTypeError\u001b[0m                                 Traceback (most recent call last)",
      "Cell \u001b[0;32mIn[68], line 1\u001b[0m\n\u001b[0;32m----> 1\u001b[0m \u001b[43ms3\u001b[49m\u001b[43m[\u001b[49m\u001b[43m:\u001b[49m\u001b[43m:\u001b[49m\u001b[38;5;241;43m-\u001b[39;49m\u001b[38;5;241;43m1\u001b[39;49m\u001b[43m]\u001b[49m\n",
      "\u001b[0;31mTypeError\u001b[0m: 'set' object is not subscriptable"
     ]
    }
   ],
   "source": [
    "s3[::-1]"
   ]
  },
  {
   "cell_type": "code",
   "execution_count": 69,
   "id": "ed44c087-845e-44d5-bc77-93b0f8d0438b",
   "metadata": {},
   "outputs": [
    {
     "ename": "TypeError",
     "evalue": "'set' object is not subscriptable",
     "output_type": "error",
     "traceback": [
      "\u001b[0;31m---------------------------------------------------------------------------\u001b[0m",
      "\u001b[0;31mTypeError\u001b[0m                                 Traceback (most recent call last)",
      "Cell \u001b[0;32mIn[69], line 1\u001b[0m\n\u001b[0;32m----> 1\u001b[0m \u001b[43ms3\u001b[49m\u001b[43m[\u001b[49m\u001b[38;5;241;43m0\u001b[39;49m\u001b[43m]\u001b[49m\n",
      "\u001b[0;31mTypeError\u001b[0m: 'set' object is not subscriptable"
     ]
    }
   ],
   "source": [
    "s3[0]"
   ]
  },
  {
   "cell_type": "code",
   "execution_count": 70,
   "id": "fa0c674a-3261-46a4-80aa-6d8f1f903ee7",
   "metadata": {},
   "outputs": [],
   "source": [
    "s3.add('mayank')"
   ]
  },
  {
   "cell_type": "code",
   "execution_count": 71,
   "id": "9385bcff-10dc-410b-9ab6-5f94e40ba210",
   "metadata": {},
   "outputs": [
    {
     "data": {
      "text/plain": [
       "{24, 424, 45, 56, 6, 76, 'apv', 'mayank', 'sfds'}"
      ]
     },
     "execution_count": 71,
     "metadata": {},
     "output_type": "execute_result"
    }
   ],
   "source": [
    "s3"
   ]
  },
  {
   "cell_type": "code",
   "execution_count": 72,
   "id": "5f6b9c8d-e838-46cb-bd52-fe309be45342",
   "metadata": {},
   "outputs": [],
   "source": [
    "s3.remove(45)"
   ]
  },
  {
   "cell_type": "code",
   "execution_count": 73,
   "id": "e5f0b81d-cedc-4267-92ac-86afa66c5e46",
   "metadata": {},
   "outputs": [
    {
     "data": {
      "text/plain": [
       "{24, 424, 56, 6, 76, 'apv', 'mayank', 'sfds'}"
      ]
     },
     "execution_count": 73,
     "metadata": {},
     "output_type": "execute_result"
    }
   ],
   "source": [
    "s3"
   ]
  },
  {
   "cell_type": "code",
   "execution_count": null,
   "id": "95843b3e-b394-43b7-933b-e12ad9a05817",
   "metadata": {},
   "outputs": [],
   "source": []
  }
 ],
 "metadata": {
  "kernelspec": {
   "display_name": "Python 3 (ipykernel)",
   "language": "python",
   "name": "python3"
  },
  "language_info": {
   "codemirror_mode": {
    "name": "ipython",
    "version": 3
   },
   "file_extension": ".py",
   "mimetype": "text/x-python",
   "name": "python",
   "nbconvert_exporter": "python",
   "pygments_lexer": "ipython3",
   "version": "3.10.8"
  }
 },
 "nbformat": 4,
 "nbformat_minor": 5
}
