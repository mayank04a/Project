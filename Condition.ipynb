{
 "cells": [
  {
   "cell_type": "code",
   "execution_count": 3,
   "id": "19ca8150-cab0-41c1-9a03-23e9bf9b6484",
   "metadata": {},
   "outputs": [
    {
     "name": "stdin",
     "output_type": "stream",
     "text": [
      "enter your marks 89\n"
     ]
    },
    {
     "name": "stdout",
     "output_type": "stream",
     "text": [
      "you will be part of A+ batch\n"
     ]
    }
   ],
   "source": [
    "marks=int(input(\"enter your marks\"))\n",
    "if marks>=80:\n",
    "    print(\"you will be part of A+ batch\")\n",
    "elif marks>=60 and marks<80:\n",
    "    print(\"you will be part of A batch\")\n",
    "elif marks>=40 and marks<60:\n",
    "    print(\"you will be part of A1 batch\")\n",
    "else:\n",
    "    print(\"you will be part of A2 batch\")"
   ]
  },
  {
   "cell_type": "code",
   "execution_count": 6,
   "id": "b2b4387f-0355-4360-b8f0-5fd385a6bccc",
   "metadata": {},
   "outputs": [
    {
     "name": "stdin",
     "output_type": "stream",
     "text": [
      "enter price 4578\n"
     ]
    },
    {
     "name": "stdout",
     "output_type": "stream",
     "text": [
      "i will purchase\n"
     ]
    }
   ],
   "source": [
    "price=int(input(\"enter price\"))\n",
    "if price>5000:\n",
    "    print(\"i will not purchase\")\n",
    "else:\n",
    "    print(\"i will purchase\")"
   ]
  },
  {
   "cell_type": "code",
   "execution_count": 7,
   "id": "a83bb0bd-1c02-42cd-871e-d3bf327dde45",
   "metadata": {},
   "outputs": [
    {
     "name": "stdin",
     "output_type": "stream",
     "text": [
      "enter price 545\n"
     ]
    }
   ],
   "source": [
    "price=int(input(\"enter price\"))\n",
    "if price>5000:\n",
    "    print(\"i will not purchase\")"
   ]
  },
  {
   "cell_type": "code",
   "execution_count": 8,
   "id": "2ea89f4c-b218-41c9-ba1d-0903345b823f",
   "metadata": {},
   "outputs": [
    {
     "name": "stdin",
     "output_type": "stream",
     "text": [
      "enter price 12009\n"
     ]
    },
    {
     "name": "stdout",
     "output_type": "stream",
     "text": [
      "i will not purchase\n",
      "it is too much\n"
     ]
    }
   ],
   "source": [
    "price=int(input(\"enter price\"))\n",
    "if price>5000:\n",
    "    print(\"i will not purchase\")\n",
    "    if price>10000:\n",
    "        print(\"it is too much\")"
   ]
  },
  {
   "cell_type": "code",
   "execution_count": 10,
   "id": "2bf5bde2-9add-4373-8433-5e9c82e4cece",
   "metadata": {},
   "outputs": [
    {
     "name": "stdin",
     "output_type": "stream",
     "text": [
      "enter price 7543\n"
     ]
    },
    {
     "name": "stdout",
     "output_type": "stream",
     "text": [
      "i will not purchase\n",
      "its ok\n"
     ]
    }
   ],
   "source": [
    "price=int(input(\"enter price\"))\n",
    "if price>5000:\n",
    "    print(\"i will not purchase\")\n",
    "    if price>10000:\n",
    "        print(\"it is too much\")\n",
    "    elif price<8000:\n",
    "            print(\"its ok\")"
   ]
  },
  {
   "cell_type": "code",
   "execution_count": null,
   "id": "6118bfdf-7ee9-41b0-abdc-80d1f1f9f41f",
   "metadata": {},
   "outputs": [],
   "source": []
  }
 ],
 "metadata": {
  "kernelspec": {
   "display_name": "Python 3 (ipykernel)",
   "language": "python",
   "name": "python3"
  },
  "language_info": {
   "codemirror_mode": {
    "name": "ipython",
    "version": 3
   },
   "file_extension": ".py",
   "mimetype": "text/x-python",
   "name": "python",
   "nbconvert_exporter": "python",
   "pygments_lexer": "ipython3",
   "version": "3.10.8"
  }
 },
 "nbformat": 4,
 "nbformat_minor": 5
}
